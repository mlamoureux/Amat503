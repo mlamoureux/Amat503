{
 "cells": [
  {
   "cell_type": "markdown",
   "metadata": {},
   "source": [
    "# Assignment 2.\n",
    "\n",
    "AMAT 503 -- M. Lamoureux\n",
    "\n",
    "Posted Feb 7. Due Thursday, Feb 15."
   ]
  },
  {
   "cell_type": "markdown",
   "metadata": {},
   "source": [
    "## Q1.\n",
    "Find a convolutional filter for sampled signals with (normalized) frequency response $$H(\\omega) = \\cos^2 (\\omega\\pi).$$ That is, look for coefficients $(h_0,h_1,h_2,h_2, \\ldots)$ so that its corresponding frequency response gives the $\\cos^2$ response. Try to do this with as few non-zero coefficients as possible.\n",
    "\n",
    "Is this a lowpass or highpass filter? Or neither?\n",
    "\n"
   ]
  },
  {
   "cell_type": "markdown",
   "metadata": {},
   "source": [
    "## Q2.\n",
    "\n",
    "Suppose that h1 and h2 are lowpass filters and g1 and g2 are highpass filters.\n",
    "\n",
    "-  Show that h = h1 * h2 is a lowpass filter.\n",
    "\n",
    "-  Show that g = g1 * g2 is a highpass filter.\n",
    "\n",
    "- Is h1 * g1 lowpass, highpass, or neither?"
   ]
  },
  {
   "cell_type": "markdown",
   "metadata": {},
   "source": [
    "## Q3.\n",
    " Consider the filter h with only 3 non-zero coefficients $(h_0,h_1,h_2) = (1/5, 3/5, 1/5)$. \n",
    "\n",
    "-  Show that Fourier transform has absolute value $|H(\\omega)| = \\mbox{ a trig function plus a constant}.$ (Be specific.)\n",
    "\n",
    "- Show that we can write the Fourier transform $H (\\omega)$ as $H(\\omega) = e^{2\\pi i \\omega} |H(\\omega)|$.\n",
    "\n",
    "- Can you find another filter g with coefficients such that $G(\\omega) = |H(\\omega)|$? \n",
    "\n",
    "(This g is called a zero-phase filter, as it has no complex phase factor.)"
   ]
  },
  {
   "cell_type": "markdown",
   "metadata": {},
   "source": [
    "## Q4.\n",
    "Let $v = [2,6,-4,2,400,402,-8,-6]'$  and use the Haar transform (Algorithm 6.1 in the text, or use the 8x8 matrix from class) to compute the HWT of v. There is a large jump in the values of v from v4 to v5 and from v6 to v7. Is this reflected in the difference block of the transformed data?"
   ]
  },
  {
   "cell_type": "markdown",
   "metadata": {},
   "source": [
    "## Q5.\n",
    "Suppose that v in a vector with $N$ entries,   N even. Let y denote the Haar wavelet transform of v (i.e., $y = W_N v$, where $W_N$ is the N-dimensional wavelet transform matrix,  given by Eqn (6.7) in the text). Show that\n",
    "\n",
    "- if v is a constant vector (i. e., all $v_k = a$ where a is any real number), then the components of the highpass portion of y are zero.\n",
    "\n",
    "- if v is a linear vector (i. e., $v_k = ak + b$ for real numbers a and b), then the components of the highpass portion of y are constant. Find this constant value.\n",
    "\n",
    "- if v is a quadratic vector (i. e., $v_k = ak^2 +bk + c$), then the components of the highpass portion of y form a linear vector. Find this linear vector."
   ]
  },
  {
   "cell_type": "markdown",
   "metadata": {},
   "source": [
    "## Q6.\n",
    "Let $v = [1, 2, 3, 4, 5, 6, 7, 8]'$. Do 3 iterations of the Haar wavelet transform, showing your work at each stage. (i.e. work out by hand. You might want to use the $\\frac{1}{2}$ as your normalizing factor, so you avoid square roots in teh answer.) Be very explicit about what your output vectors are at each iteration. \n",
    "\n",
    "Is it possible to do a 4th iteration?\n",
    "\n"
   ]
  },
  {
   "cell_type": "markdown",
   "metadata": {},
   "source": [
    "## Q7.\n",
    "Compute by hand three iterations of the inverse HWT on the vector y from Question No. 6 above. Show your work at each stage.\n",
    "\n",
    "Verify that your result is the original vector $v$ from Question 6, showing this was an inverse."
   ]
  },
  {
   "cell_type": "markdown",
   "metadata": {},
   "source": [
    "## Q8.\n",
    "The $Z$ transform for the Haar filters are $H(Z) = (1+Z)/2, G(Z) = (1-Z)/2$ which have roots at $-1, +1$ respectively.\n",
    "\n",
    "Find the roots for the $Z$ transform of the Daubechies filters with 6 non-zero coefficents, lowpass $H(Z) = h_0 + h_1 Z+ h_2Z + \\cdots h_5Z^5$ and highpass $G(Z) = g_0 + g_1 Z+ g_2Z + \\cdots g_5Z^5$. You likely will have to do this numerically. (In Python wavetlet package, the Daubechies filter with 6 coeffcients is called db3.)\n",
    "\n",
    "Can you see any relationship between those roots?\n",
    "\n",
    "Verify your answer by checking with the Daubechies filter with 8 coefficients. (In Python wavelets, this is called db4.)\n"
   ]
  },
  {
   "cell_type": "markdown",
   "metadata": {},
   "source": [
    "## Q9.\n",
    "\n",
    "a) Given two n-th order polynomials\n",
    "$$ H(Z) = h_0 + h_1 Z+ h_2Z + \\cdots h_nZ^n,$$\n",
    "$$ G(Z) = g_0 + g_1 Z+ g_2Z + \\cdots g_nZ^n,$$\n",
    "find a relationship between their roots, under the assumption that the coefficients of $G$ are the same as $H$, except in reverse order. That is,\n",
    "$$ g_k = h_{n-k}, \\mbox{ for $0 \\leq k \\leq n$}.$$\n",
    "\n",
    "b) Same question, except assume the coefficients of $G$ also have alternating signs from $H$:\n",
    "$$ g_k = (-1)^k h_{n-k}, \\mbox{ for } 0 \\leq k \\leq n.$$\n",
    "\n",
    "\n"
   ]
  },
  {
   "cell_type": "code",
   "execution_count": null,
   "metadata": {
    "collapsed": true
   },
   "outputs": [],
   "source": []
  }
 ],
 "metadata": {
  "kernelspec": {
   "display_name": "Python 3",
   "language": "python",
   "name": "python3"
  },
  "language_info": {
   "codemirror_mode": {
    "name": "ipython",
    "version": 3
   },
   "file_extension": ".py",
   "mimetype": "text/x-python",
   "name": "python",
   "nbconvert_exporter": "python",
   "pygments_lexer": "ipython3",
   "version": "3.6.0"
  }
 },
 "nbformat": 4,
 "nbformat_minor": 2
}
