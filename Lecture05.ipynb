{
 "cells": [
  {
   "cell_type": "markdown",
   "metadata": {},
   "source": [
    "# AMAT503:  Lecture 05\n",
    "\n",
    "January 23, 2018.\n",
    "\n",
    "Michael Lamoureux"
   ]
  },
  {
   "cell_type": "markdown",
   "metadata": {},
   "source": [
    "# HEADS' UP!\n",
    "\n",
    "I will be using [Jupyter notebooks](https://jupyter.org) in this classroom, to combine text, math, and graphics. \n",
    "\n",
    "Students can access Jupyter at [ucalgary.syzygy.ca](https://ucalgary.syzygy.ca)\n",
    "\n",
    "An eBook on how to use syzygy is here: [intro.syzygy.ca](http://intro.syzygy.ca)\n",
    "\n",
    "Lecture notes, code, assignments, etc are available on a git repo: [github.com/mlamoureux](https://github.com/mlamoureux)\n",
    "\n",
    "The textbnook for the course is available electronically\n",
    "[here](https://ucalgary.summon.serialssolutions.com/#!/#!%2Fsearch%3FbookMark=ePnHCXMwhZ3bCoJAEIYNvCjrGcq6CLoQFMLoNjN6gO4H6QBSWLRrh7fvH2ddC4QuxQ_Fw87-M7v7r-e4yFuPHXFTYoMxiNIYSbV43SxC_EMRdyEeV8mQFIlTMnQJOl9ogW5dIGGvc2RuPcdf52hBkJD-M-PNGLSvvzQdvs3AcfW9RDQdbdJdsg2MheubTAWEeBZXHLHXXiBEs6iByiIveOdjKvcR8YIWZChLhHZ2au87M-EzdUbIQTjSih6XahhT0c_zgR0Lq7ITslyyTPPMYKbC1FGfqkuZaZiUrhLId-gLgEMBZfCYbuI8QVFYjZPy9pmTVkC_dCvULKiyqL2VgbiIcrja03KI5h3PGfr3aj8nd5KS)\n",
    "\n",
    "or [here](https://proquest-safaribooksonline-com.ezproxy.lib.ucalgary.ca/9780470183113?uicode=ucalgary).\n",
    "Thanks to Phil for pointing this out. \n",
    "\n",
    "\n",
    "One of the links should take any student to the ucalgary login page and then to the web version of the book after they successfully login."
   ]
  },
  {
   "cell_type": "code",
   "execution_count": 8,
   "metadata": {
    "collapsed": true
   },
   "outputs": [],
   "source": [
    "## Some startup commands\n",
    "\n",
    "%matplotlib inline\n",
    "from numpy import * \n",
    "from scipy import *\n",
    "from matplotlib.pyplot import *\n",
    "from IPython.display import IFrame\n",
    "from IPython.display import Audio, display"
   ]
  },
  {
   "cell_type": "markdown",
   "metadata": {},
   "source": [
    "## Summary\n",
    "\n",
    "- Energy of a signal.\n",
    "- Signal to noise ratio, energy\n",
    "- decibels\n",
    "- Modifying energy for image data, RGB spacce, etc\n",
    "- Fourier transforms\n",
    "- Haar transform, first steps\n",
    "\n"
   ]
  },
  {
   "cell_type": "markdown",
   "metadata": {},
   "source": [
    "## Energy\n",
    "\n",
    "Given a signal $f(t)$ as a function of time, we define its energy as the integral\n",
    "$$E = \\int_{-\\infty}^\\infty |f(t)|^2 \\, dt.$$\n",
    "If the signal is on a fixed inteval $[0,L]$ we could instead define the energy as\n",
    "$$E = \\int_0^L |f(t)|^2 \\, dt.$$\n",
    "For a sampled signal $f(0), f(\\Delta t), f(2\\Delta t), \\ldots$ the appropriate definition is\n",
    "$$ E = \\sum_{n=0}^\\infty |f(k)|^2 \\Delta t$$\n",
    "although in many cases people will drop the constant $\\Delta t$ in the sum.\n",
    "\n",
    "Since **energy** is a physical term, we should be careful to indicate why these sums or integrals are like enerrgy. It is more accurate to say they are proportional to the energy in certain types of signals. For instance, if $f(t)$ is measuring electrical voltage $V$ across a resistor, the amount of current $I$ flowing through the resistor is given by Ohm's law, $$V = IR$$, where $R$ is the resistance of the device (resistor). The power is then\n",
    "$$ P = IV = V^2/R, $$\n",
    "and the energy is the amount of power multiplied by the length of time you are using that power,\n",
    "$$ E = (V^2/R)*T.\n",
    "\n",
    "For instance, a standard incadescent bulb uses 100 watts (a measure of power) and if you light it up for 10 hours, that uses 1000 watt-hours, or one kilowatt-hour. Your utlilty company changes you for the total amount of energy you use, in this case one kilo-watt hour.\n",
    "\n",
    "The point is, our signal energy $E = \\int_0^L |f(t)|^2 \\, dt$ is proportional to $f^2$, or voltage squared, multiplied by the length of time. So up to some scaling factor ($1/R$), it is the physical energy.\n",
    "\n",
    "Other physical energies we see in real life are kinetic energy $(1/2)mv^2$ of a moving object with mass $m$ and velocity $v$, or the potential energy $(1/2)k x^2$ of a linear spring displaced by $x$ units from rest. ($k$ is the spring constant in Hooke's law). or Einstein's $E= mc^2$. The point is, in all these energy calculation, there is a variable quantity (voltage, velocity, displacement) that appears as a square. \n",
    "\n",
    "So we use the square in our definition of signal energy. Note the square root of energy is then our usual $L^2$ norm for functions. \n",
    "\n",
    "\n"
   ]
  },
  {
   "cell_type": "markdown",
   "metadata": {},
   "source": [
    "## Adjustments for signals\n",
    "\n",
    "This energy definition makes sense for things like electical signals, where $f(t)$ measures something like voltage, and where $f(t) = 0$ is the \"no signal\" state. \n",
    "\n",
    "However, some signals might have a non-zero resting state. For instance, a B/W image is often recorded as an array of pixels with numerical values stored as an integer 0 to 255. (i.e. it has 8 bits of information for each pixel.) There is no particular reason why 0 is a special value, it just means \"black.\" 255 just means \"white.\" An all white image seems to have about the same information as an all black image. So maybe it makes more sense to measure the variation about the mean as the enegy. That is, we might define\n",
    "$$E = \\int_0^L | f(t) - f_{mean} |^2 dt$$\n",
    "where the mean is given as the average value of f,\n",
    "$$f_{mean} = \\frac{1}{L}\\int_0^L f(t) dt.$$\n",
    "\n",
    "For a sampled signal,\n",
    "$$E = \\sum_1^N | f(n) - f_{mean} |^2 $$\n",
    "where the mean is given as the average value of f,\n",
    "$$f_{mean} = \\frac{1}{N}\\sum_0^N f(n) .$$\n",
    "\n",
    "For a B/W image with a $M\\times N$ array of pixels, we can use\n",
    "$$E = \\sum_{m,n=1}^{M,N} | f(m,n) - f_{mean} |^2 $$\n",
    "where the mean is given as the average value of f,\n",
    "$$f_{mean} = \\frac{1}{MN}\\sum_{m,n=1}^{M,N} f(m,n) .$$\n",
    "\n",
    "For a colour image, you might like to take just the Energy of each of the three channels, and add them up. (Usually substracting the mean of each.)\n",
    "\n",
    "For other colour representations, you might want to think carefully about what you are measuring! (Sometimes easier just to covert to RGB space.)\n",
    "\n"
   ]
  },
  {
   "cell_type": "markdown",
   "metadata": {},
   "source": [
    "## Signal to noise\n",
    "\n",
    "In signal processing, we often use a very simple model to analyze noise in a signal. Think of music, with static in it (from a scratchy record, a bad radio reception, and so on. ) The original signal $s(t)$ is contaminated with some noise $n(t)$ which is added to the signal, resulting in a noisy sinal\n",
    "$$f(t) = s(t) + n(t).$$\n",
    "\n",
    "The signal-to-noise ratio is just a measure\n",
    "$$SNR = \\frac{\\mbox{Energy of signal s}}{\\mbox{Energy of noise n}}.$$\n",
    "\n",
    "What's nice about using a ratio is that we don't have to worry about any proportionality constants that came up in our various definitions of energy -- they get cancelled out anyway. \n",
    "\n",
    "It is common to state the SNR in decibels, as\n",
    "$$ SNR = 10*\\log_{10} \\frac{\\mbox{Energy of signal s}}{\\mbox{energy of noise n}} \\mbox{decibels}. $$\n",
    "So for instance, if the energy of the noise goes up by a factor of 2, the ration goes down by a factor of 2, so the SNR decreases by about 3 dB. ($10*\\log_{10} (1/2) = 3.01$)\n",
    "\n",
    "Note that decibels are used all over the place, including measuring the intensity of sounds we here. Keep in mind it is the log of a ratio, so you are always measuring the signal energy relative to something. \n",
    "\n",
    "For instance, when we said the loud sound of a motorcycle is at 80 dB, that is relative to the softest sound a human can hear (which is defined as 0 dB). Note it has $10^8$$ times the energy. (Can you see why?)"
   ]
  },
  {
   "cell_type": "markdown",
   "metadata": {},
   "source": [
    "## Limitations of SNR\n",
    "\n",
    "The signal to noise ratio is useful for situations where you are measuring additive noise. This is often the case for electrical signals, and also the error model for many statistical experiments.\n",
    "\n",
    "It is not alway appropriate, though. Suppose you have a signal $s(t)$ that gets recorded as a delay version, so the recorded signal is $$f(t) = s(t-\\Delta t).$$\n",
    "Depending on the size of $\\Delta t$, you might not really case about that error. But our noise model forces it to look like we have noise given as $$n(t) = s(t-\\Delta t) - s(t)$$ which could be quite large. (It looks like a derivative of $s$.)\n",
    "\n",
    "Or what if your recorded signal was just modifying $s(t)$ by some constant, or a linear transform like\n",
    "$$f(t) = .9 s(t) + 1.2.$$\n",
    "Again, you might not care about such errors, but the additive noise model with indicate a significant level of noise.\n",
    "\n",
    "### Moral:\n",
    "Be careful about how you define your SNR, use something that is appropriate to the problem at hand."
   ]
  },
  {
   "cell_type": "markdown",
   "metadata": {},
   "source": [
    "# Haar transform\n",
    "\n",
    "- on a discrete space\n",
    "- on an interval\n",
    "- on the real line\n",
    "- just a quick intro"
   ]
  },
  {
   "cell_type": "markdown",
   "metadata": {},
   "source": [
    "# Fourier transform\n",
    "\n",
    "- how much do the students know already?\n",
    "- complex numbers? Complex exponentials?\n",
    "- on a discrete space\n",
    "- on an interval\n",
    "- on the real line\n",
    "- connection to convolution"
   ]
  }
 ],
 "metadata": {
  "kernelspec": {
   "display_name": "Python 3",
   "language": "python",
   "name": "python3"
  },
  "language_info": {
   "codemirror_mode": {
    "name": "ipython",
    "version": 3
   },
   "file_extension": ".py",
   "mimetype": "text/x-python",
   "name": "python",
   "nbconvert_exporter": "python",
   "pygments_lexer": "ipython3",
   "version": "3.6.0"
  }
 },
 "nbformat": 4,
 "nbformat_minor": 2
}
