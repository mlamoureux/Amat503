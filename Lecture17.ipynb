{
 "cells": [
  {
   "cell_type": "markdown",
   "metadata": {},
   "source": [
    "# AMAT503:  Lecture 17\n",
    "\n",
    "March 15, 2018.\n",
    "\n",
    "Michael Lamoureux\n",
    "\n",
    "We reviewed the answers from the midterm that was held on March 13.\n",
    "\n",
    "We also looked over the material in Assignment 3, which was assigned today (March 15) with a due date of March 22. It is largely computational, hoping the students try out Python on Jupyter for this.\n"
   ]
  },
  {
   "cell_type": "code",
   "execution_count": null,
   "metadata": {
    "collapsed": true
   },
   "outputs": [],
   "source": []
  }
 ],
 "metadata": {
  "kernelspec": {
   "display_name": "Python 3",
   "language": "python",
   "name": "python3"
  },
  "language_info": {
   "codemirror_mode": {
    "name": "ipython",
    "version": 3
   },
   "file_extension": ".py",
   "mimetype": "text/x-python",
   "name": "python",
   "nbconvert_exporter": "python",
   "pygments_lexer": "ipython3",
   "version": "3.6.1"
  }
 },
 "nbformat": 4,
 "nbformat_minor": 2
}
