{
 "cells": [
  {
   "cell_type": "markdown",
   "metadata": {},
   "source": [
    "# AMAT503:  Lecture 03\n",
    "\n",
    "January 17, 2018.\n",
    "\n",
    "Michael Lamoureux"
   ]
  },
  {
   "cell_type": "markdown",
   "metadata": {},
   "source": [
    "# HEADS' UP!\n",
    "\n",
    "I will be using [Jupyter notebooks](https://jupyter.org) in this classroom, to combine text, math, and graphics. \n",
    "\n",
    "Students can access Jupyter at [ucalgary.syzygy.ca](https://ucalgary.syzygy.ca)\n",
    "\n",
    "An eBook on how to use syzygy is here: [intro.syzygy.ca](http://intro.syzygy.ca)\n",
    "\n",
    "Lecture notes, code, assignments, etc are available on a git repo: [github.com/mlamoureux](https://github.com/mlamoureux)"
   ]
  },
  {
   "cell_type": "code",
   "execution_count": 5,
   "metadata": {
    "collapsed": true
   },
   "outputs": [],
   "source": [
    "## Some startup commands\n",
    "\n",
    "%matplotlib inline\n",
    "from numpy import * \n",
    "from matplotlib.pyplot import *\n",
    "from IPython.display import IFrame\n",
    "from IPython.display import Audio, display"
   ]
  },
  {
   "cell_type": "markdown",
   "metadata": {},
   "source": [
    "## Summary\n",
    "\n",
    "- example of Gram-Schmidt, using functions $e^{-nt}$ on positive real axix.\n",
    "- More stable way, using Cholesky factorization (a symmetric LU decomposition)\n",
    "- More on Cholesky\n",
    "- Expressing derivative operator as a matrix\n",
    "- Depends on basis (monomials, sines and cosines, complex exponentials)\n",
    "- Block matrices\n",
    "- Intro to convolution\n",
    "\n"
   ]
  },
  {
   "cell_type": "code",
   "execution_count": null,
   "metadata": {
    "collapsed": true
   },
   "outputs": [],
   "source": []
  }
 ],
 "metadata": {
  "kernelspec": {
   "display_name": "Python 3",
   "language": "python",
   "name": "python3"
  },
  "language_info": {
   "codemirror_mode": {
    "name": "ipython",
    "version": 3
   },
   "file_extension": ".py",
   "mimetype": "text/x-python",
   "name": "python",
   "nbconvert_exporter": "python",
   "pygments_lexer": "ipython3",
   "version": "3.6.1"
  }
 },
 "nbformat": 4,
 "nbformat_minor": 2
}
