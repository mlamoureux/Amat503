{
 "cells": [
  {
   "cell_type": "markdown",
   "metadata": {},
   "source": [
    "## Oscilloscope\n",
    "\n",
    "February 14, 2018. M. Lamoureux for AMAT 503\n",
    "\n",
    "The goal here is to build a real time oscilloscope. It should read in from the laptop's microphone and display the waveform, over and over again.\n",
    "\n"
   ]
  },
  {
   "cell_type": "markdown",
   "metadata": {},
   "source": [
    "On a Mac OS 10, I needed to launch the terminal and install some packages in order to access the microphone as a sound device. There are really two pieces:\n",
    "- the portaudio package, which is a bunch of C code to access the Mac OS sound devices\n",
    "- pyaudio, which is the python interface to portaudio.\n",
    "\n",
    "The commands I needed were:\n",
    "- brew install portaudio\n",
    "- pip install pyaudio\n",
    "\n",
    "Updating brew and installing portaudio took as really long time. My impression is that it create a whole lot of files on my disk.\n",
    "\n",
    "I used a bunch of online resources to get this figured out. They are listed below.\n",
    "\n",
    "First following a presentation on youtube: https://www.youtube.com/watch?v=AShHJdSIxkY\n",
    "\n",
    "I am working from this github  repo: [https://github.com/markjay4k/Audio-Spectrum-Analyzer-in-Python](https://github.com/markjay4k/Audio-Spectrum-Analyzer-in-Python)\n",
    "\n",
    "Notes on speeding up matplotlib:\n",
    "[http://bastibe.de/2013-05-30-speeding-up-matplotlib.html](http://bastibe.de/2013-05-30-speeding-up-matplotlib.html)"
   ]
  },
  {
   "cell_type": "code",
   "execution_count": 1,
   "metadata": {
    "collapsed": true
   },
   "outputs": [],
   "source": [
    "import pyaudio\n",
    "import struct\n",
    "import numpy as np\n",
    "import matplotlib.pyplot as plt\n",
    "import time"
   ]
  },
  {
   "cell_type": "code",
   "execution_count": 2,
   "metadata": {
    "collapsed": true
   },
   "outputs": [],
   "source": [
    "%matplotlib tk\n",
    "\n",
    "CHUNK = 1024\n",
    "FORMAT  = pyaudio.paInt16\n",
    "CHANNELS = 2\n",
    "RATE = 44100"
   ]
  },
  {
   "cell_type": "code",
   "execution_count": 4,
   "metadata": {},
   "outputs": [
    {
     "name": "stdout",
     "output_type": "stream",
     "text": [
      "40.5\n"
     ]
    }
   ],
   "source": [
    "p = pyaudio.PyAudio()\n",
    "\n",
    "stream = p.open(\n",
    "    format=FORMAT,\n",
    "    channels= 2, ##CHANNELS,\n",
    "    rate=RATE,\n",
    "    input=True,\n",
    "    input_device_index=0,\n",
    "    #output=True,\n",
    "    frames_per_buffer=CHUNK\n",
    ")\n",
    "\n",
    "data = stream.read(CHUNK,exception_on_overflow = False)\n",
    "data_int = np.fromstring(data, dtype='h')\n",
    "#data_int = struct.unpack(str(4*CHUNK) + 'B', data)\n",
    "data_int\n",
    "\n",
    "fig, ax = plt.subplots()\n",
    "line, = ax.plot(data_int)\n",
    "ax.set_ylim(-5000,5000)\n",
    "\n",
    "tstart = time.time()\n",
    "num_plots = 0\n",
    "while time.time()-tstart < 10:\n",
    "    data = stream.read(CHUNK,exception_on_overflow = False)\n",
    "    data_int = np.fromstring(data, dtype='h')\n",
    "    line.set_ydata(data_int)\n",
    "    fig.canvas.draw()\n",
    "    fig.canvas.flush_events()\n",
    "    num_plots += 1\n",
    "\n",
    "stream.close()\n",
    "p.terminate()\n",
    "\n",
    "print(num_plots/10)"
   ]
  },
  {
   "cell_type": "code",
   "execution_count": 5,
   "metadata": {},
   "outputs": [
    {
     "data": {
      "text/plain": [
       "array([168, 167, 124, ..., 394, 347, 347], dtype=int16)"
      ]
     },
     "execution_count": 5,
     "metadata": {},
     "output_type": "execute_result"
    }
   ],
   "source": [
    "data_int\n"
   ]
  },
  {
   "cell_type": "code",
   "execution_count": 6,
   "metadata": {},
   "outputs": [
    {
     "data": {
      "text/plain": [
       "-992"
      ]
     },
     "execution_count": 6,
     "metadata": {},
     "output_type": "execute_result"
    }
   ],
   "source": [
    "np.min(data_int)"
   ]
  },
  {
   "cell_type": "code",
   "execution_count": null,
   "metadata": {
    "collapsed": true
   },
   "outputs": [],
   "source": []
  }
 ],
 "metadata": {
  "kernelspec": {
   "display_name": "Python 3",
   "language": "python",
   "name": "python3"
  },
  "language_info": {
   "codemirror_mode": {
    "name": "ipython",
    "version": 3
   },
   "file_extension": ".py",
   "mimetype": "text/x-python",
   "name": "python",
   "nbconvert_exporter": "python",
   "pygments_lexer": "ipython3",
   "version": "3.6.1"
  }
 },
 "nbformat": 4,
 "nbformat_minor": 2
}
