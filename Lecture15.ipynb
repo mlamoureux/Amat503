{
 "cells": [
  {
   "cell_type": "markdown",
   "metadata": {},
   "source": [
    "# AMAT503:  Lecture 15\n",
    "\n",
    "March 6, 2018.\n",
    "\n",
    "Michael Lamoureux"
   ]
  },
  {
   "cell_type": "markdown",
   "metadata": {},
   "source": [
    "# Orthogonality conditions\n",
    "\n",
    "We are interested in the conditions that will give us an orthogonal transformation in the wavelet filter construction.\n",
    "\n",
    "Recall we have coefficients for lowpass filter $h_0,h_1,\\ldots, h_n$ and a highpass filter $g_0,g_1,\\ldots, g_n$. We want to construct them in such a way that that wavelet transform matrix is an orthogonal matrix\n",
    "\n",
    "This is eqiuvalent (apparently) to a property of their filter amplitudes must satisfy, namely:\n",
    "\n",
    "$$ |H(\\omega)|^2 + |G(\\omega)|^2 = 2.$$\n",
    "\n",
    "We will explore this today in class.\n",
    "\n"
   ]
  },
  {
   "cell_type": "markdown",
   "metadata": {},
   "source": [
    "# Biorthogonality conditions\n",
    "\n",
    "We will discuss biorthogonal wavelet transforms. In this case, we have 4 filters with coefficients $h_0,h_1,\\ldots, h_n$, $h'_0,h'_1,\\ldots, h'_n$,$g_0,g_1,\\ldots, g_n$, $g'_0,g'_1,\\ldots, g'_n$. We construct them in such a way that we get a transform and its inverse. The equivalent condition on the filter responses will be\n",
    "\n",
    "$$H'(\\omega)\\overline{H(\\omega)} + H'(\\omega +0.5)\\overline{H(\\omega + 0.5)} = 2.$$\n",
    "\n",
    "We will go into the detail on how these matrices are constructed."
   ]
  },
  {
   "cell_type": "code",
   "execution_count": null,
   "metadata": {
    "collapsed": true
   },
   "outputs": [],
   "source": []
  }
 ],
 "metadata": {
  "kernelspec": {
   "display_name": "Python 3",
   "language": "python",
   "name": "python3"
  },
  "language_info": {
   "codemirror_mode": {
    "name": "ipython",
    "version": 3
   },
   "file_extension": ".py",
   "mimetype": "text/x-python",
   "name": "python",
   "nbconvert_exporter": "python",
   "pygments_lexer": "ipython3",
   "version": "3.6.0"
  }
 },
 "nbformat": 4,
 "nbformat_minor": 2
}
