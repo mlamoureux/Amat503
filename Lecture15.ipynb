{
 "cells": [
  {
   "cell_type": "markdown",
   "metadata": {},
   "source": [
    "# AMAT503:  Lecture 15\n",
    "\n",
    "March 6, 2018.\n",
    "\n",
    "Michael Lamoureux"
   ]
  },
  {
   "cell_type": "markdown",
   "metadata": {},
   "source": [
    "# Orthogonality conditions\n",
    "\n",
    "We are interested in the conditions that will give us an orthogonal transformation in the wavelet filter construction.\n",
    "\n",
    "Recall we have coefficients for lowpass filter $h_0,h_1,\\ldots, h_n$ and a highpass filter $g_0,g_1,\\ldots, g_n$. We want to construct them in such a way that that wavelet transform matrix is an orthogonal matrix\n",
    "\n",
    "This is eqiuvalent (apparently) to a property of their filter amplitudes must satisfy, namely:\n",
    "\n",
    "$$ |H(\\omega)|^2 + |G(\\omega)|^2 = 2.$$\n",
    "\n",
    "We will explore this today in class.\n",
    "\n"
   ]
  },
  {
   "cell_type": "markdown",
   "metadata": {},
   "source": [
    "# Biorthogonality conditions\n",
    "\n",
    "We will discuss biorthogonal wavelet transforms. In this case, we have 4 filters with coefficients $h_0,h_1,\\ldots, h_n$, $h'_0,h'_1,\\ldots, h'_n$,$g_0,g_1,\\ldots, g_n$, $g'_0,g'_1,\\ldots, g'_n$. We construct them in such a way that we get a transform and its inverse. The equivalent condition on the filter responses will be\n",
    "\n",
    "$$H'(\\omega)\\overline{H(\\omega)} + H'(\\omega +0.5)\\overline{H(\\omega + 0.5)} = 2.$$\n",
    "\n",
    "We will go into the detail on how these matrices are constructed."
   ]
  },
  {
   "cell_type": "markdown",
   "metadata": {
    "collapsed": true
   },
   "source": [
    "## Othogonality conditions\n",
    "\n",
    "Remember, the point is the form of the matrix:\n",
    "$$\n",
    "\\left[\n",
    "\\begin{array}{ccccc}\n",
    "h_0 & h_1 & h_2 & h_3 & \\ldots \\\\\n",
    "0   & 0   & h_0 & h_1 & \\ldots \\\\\n",
    "\\vdots \\\\\n",
    "g_0 & g_1 & g_2 & g_3 & \\ldots \\\\\n",
    "0   & 0   & g_0 & g_1 & \\ldots \\\\\n",
    "\\vdots\n",
    "\\end{array}\n",
    "\\right]\n",
    "$$\n",
    "We want to choose the $h's$ and the $g'$ so the rows are orthonormal. \n",
    "\n",
    "The first trick is to chose the $g's$ from the $h's$, with\n",
    "$$ g_k = (-1)^k h_{n-k}.$$\n",
    "So the g's are the same as the h's, just in reverse order and with alternating signs. A quick check shows this makes the g-rows orthogonal to the h-rows.\n",
    "\n",
    "To make the h-rows unit length, we just choose the coefficients to give the right length:\n",
    "$$\\sum_k h_k^2 = 1.$$\n",
    "\n",
    "For the rows to be perpendicular to each other, we notice we just have to shift the coefficients by steps of length 2, and take dot products. So\n",
    "$$ \\sum_k h_k h_{k+2} = 0,$$\n",
    "$$ \\sum_k h_k h_{k+4} = 0,$$\n",
    "$$ \\sum_k h_k h_{k+6} = 0,$$\n",
    "and so on. We can write these in one line as\n",
    "$$ \\sum_k h_k h_{k+2m} = 0, \\mbox{ fox } m=1,2,3,\\ldots.$$\n"
   ]
  },
  {
   "cell_type": "markdown",
   "metadata": {},
   "source": [
    "## Equivalent statement in Fourier transform\n",
    "\n",
    "We have a theorem (theorem 8.1 I think in the text) that says we get orthonormal rows if and only if\n",
    "$$ |H(\\omega)|^2 + |H(\\omega + 1/2)|^2 = 2,$$\n",
    "where $H(\\omega)$ is the Fourier transform of the coefficients $h_0,h_1,\\ldots, h_n$. Which is to say\n",
    "$$H(\\omega) = \\sum_k h_k e^{2\\pi i k \\omega}.$$\n",
    "\n",
    "To me, intuitively it seems harder to work with a function $H(\\omega)$ instead of a handful of coefficients. But then we remember that the functions are just polynomials in the variable $z = e^{2\\pi i \\omega}$. So we can write\n",
    "$$H(\\omega) = h_0 + h_1 z + h_2 z^2 + \\cdots + h_n z^n, $$ and \n",
    "$$\\overline{H(\\omega)} = h_0 + h_1 \\overline{z} + h_2 \\overline{z}^2 + \\cdots + h_n \\overline{z}^n. $$\n",
    "\n",
    "Also\n",
    "$$H(\\omega + 1/2) = h_0 - h_1z + h_2 z^2 - \\cdots + (-1z)^n.$$\n",
    "\n",
    "So the function statement above is really just a statement about polynomials. It says\n",
    "$$ (\\sum_k h_k z^k)(\\sum_k h_k \\overline{z}^k) + (\\sum_k h_k (-z)^k)(\\sum_k h_k (-\\overline{z})^k) = 2.$$\n"
   ]
  },
  {
   "cell_type": "markdown",
   "metadata": {},
   "source": [
    "Just sum up the terms of the polynomials on both side, and see that they match. \n",
    "\n",
    "For instance the 0th term on the Right Hand Side is 2 (it is a constant polynomial).\n",
    "\n",
    "The 0th order term on the left had side only come up when you have a $z^k$ matching a $\\overline{z}^k$, which cancel exactly since these $z$ values are on the unit circle in the complex plane. So the 0th order term on the LHS is\n",
    "$$\\sum_k h_kh_k + \\sum_k h_kh_k.$$\n",
    "\n",
    "Equating the two means \n",
    "$$\\sum_k h_kh_k + \\sum_k h_kh_k = 2 \\mbox{ i.e. } \\sum_k h_kh_k = 1,$$\n",
    "which was the condition for unit length of the coefficient vector.\n",
    "\n",
    "The 1st order term, with the power $z^1$ occurs only when a $z^{k+1}$ is matched with a $\\overline{z}^k$. We get some interesting cancellation on the LHS, with\n",
    "$$\\sum_k h_{k+1} h_k + \\sum_k (-1)^{k+1}(-1)^k h_{k+1} h_k = \\sum_k h_{k+1} h_k - \\sum_k h_{k+1} h_k = 0$$\n",
    "so we get a zero for free. \n",
    "\n",
    "The 2nd order term, with the power $z^2$ occurs only when a $z^{k+2}$ is matched with a $\\overline{z}^k$. So we have\n",
    "$$\\sum_k h_{k+2} h_k + \\sum_k (-1)^{k+2}(-1)^k h_{k+2} h_k = \\sum_k h_{k+2} h_k.$$\n",
    "Now is the LHS and RHS polynomials agree, this better be equal to zero, since the RHS of that equation has no $z^2$ terms. So the condition on the polynomials gives \n",
    "$$\\sum_k h_{k+2} h_k = 0,$$\n",
    "which is the condition for the first two rows in the wavelet matrix to be orthogonal.\n",
    "\n",
    "And now you continue for the other terms. Of course, the odd terms don't give anything (like the 1st order term, there is cancellation for free). The even terms will give the conditions\n",
    "$$\\sum_k h_{k+2m} h_k = 0, \\mbox{ for } m = 1,2,3,\\ldots.$$\n",
    "\n",
    "So that's a proof of Theorem 8.1. \n"
   ]
  },
  {
   "cell_type": "markdown",
   "metadata": {},
   "source": [
    "## How many conditions?\n",
    "\n",
    "So, once we choose how many coefficients $h_0, \\ldots, h_n$ we have, we only have a certain number of conditions given by the equations above.\n",
    "\n",
    "For db1, the Daubechies with 2 coefficients, we have only one condition:\n",
    "$$h_0^2 + h_1^2 = 1.$$\n",
    "That's not enough for a solution. So we add a condition that the filter be low-pass, so we set a zero in the polynomial at $z=-1$. Thus we want\n",
    "$$h_0 + h_1(-1) = 0.$$\n",
    "\n",
    "Two equations in two unknowns is enough to solve. There are of course two solutions:\n",
    "$$ (h_0,h_1) = \\frac{(1,1)}{\\sqrt{2}} \\mbox{ and } (h_0,h_1) = -\\frac{(1,1)}{\\sqrt{2}}.$$\n",
    "We usually use the first one.\n",
    "\n",
    "For db2, the Daubechies with 4 coefficients, we have two conditions from the polynomial constraint:\n",
    "$$h_0^2 + h_1^2 +h_2^2 + h_3^2= 1,$$\n",
    "$$ h_0 h_2 + h_1 h_3 = 0.$$\n",
    "The lowpass constraint gives a third condition\n",
    "$$h_0 - h_1 + h_2 - h_3 = 0.$$\n",
    "For a fourth condition, Daubechies choose the first derivative at $z=1$ to be zero. This gives a flat response near DC, and an algebraic condition\n",
    "$$ h_1 + 2h_2 + 3h_3 = 0.$$\n",
    "\n",
    "I think this give an equivalent answer as choosing the first derivative to be at zero at $z=-1$. This would be\n",
    "$$ h_1 - 2h_2 + 3h_3 = 0.$$\n",
    "Maybe you want to check that out. \n",
    "\n"
   ]
  },
  {
   "cell_type": "markdown",
   "metadata": {},
   "source": [
    "# Biorthongonal wavelets\n",
    "\n",
    "The idea is to build two wavelet matrices\n",
    "$$ W = \n",
    "\\left[\n",
    "\\begin{array}{c}\n",
    "H \\\\\n",
    "G \n",
    "\\end{array}\n",
    "\\right]\n",
    "\\mbox{ and } \n",
    "W' = \n",
    "\\left[\n",
    "\\begin{array}{c}\n",
    "H' \\\\\n",
    "G' \n",
    "\\end{array}\n",
    "\\right]\n",
    "$$\n",
    "so that\n",
    "$$WW'^T = I.$$\n",
    "\n",
    "Thinking of block matirces, this gives us four conditions\n",
    "$$HH'^T = I, \\qquad G G'^T = 0, \\qquad GH'^T =0, \\qquad HG'^T = 0.$$"
   ]
  },
  {
   "cell_type": "code",
   "execution_count": null,
   "metadata": {
    "collapsed": true
   },
   "outputs": [],
   "source": []
  }
 ],
 "metadata": {
  "kernelspec": {
   "display_name": "Python 3",
   "language": "python",
   "name": "python3"
  },
  "language_info": {
   "codemirror_mode": {
    "name": "ipython",
    "version": 3
   },
   "file_extension": ".py",
   "mimetype": "text/x-python",
   "name": "python",
   "nbconvert_exporter": "python",
   "pygments_lexer": "ipython3",
   "version": "3.6.0"
  }
 },
 "nbformat": 4,
 "nbformat_minor": 2
}
