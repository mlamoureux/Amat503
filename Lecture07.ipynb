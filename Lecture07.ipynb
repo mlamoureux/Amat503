{
 "cells": [
  {
   "cell_type": "markdown",
   "metadata": {},
   "source": [
    "# AMAT503:  Lecture 07\n",
    "\n",
    "January 29, 2018.\n",
    "\n",
    "Michael Lamoureux"
   ]
  },
  {
   "cell_type": "markdown",
   "metadata": {},
   "source": [
    "# HEADS' UP!\n",
    "\n",
    "I will be using [Jupyter notebooks](https://jupyter.org) in this classroom, to combine text, math, and graphics. \n",
    "\n",
    "Students can access Jupyter at [ucalgary.syzygy.ca](https://ucalgary.syzygy.ca)\n",
    "\n",
    "An eBook on how to use syzygy is here: [intro.syzygy.ca](http://intro.syzygy.ca)\n",
    "\n",
    "Lecture notes, code, assignments, etc are available on a git repo: [github.com/mlamoureux](https://github.com/mlamoureux)\n",
    "\n",
    "The textbnook for the course is available electronically\n",
    "[here](https://ucalgary.summon.serialssolutions.com/#!/#!%2Fsearch%3FbookMark=ePnHCXMwhZ3bCoJAEIYNvCjrGcq6CLoQFMLoNjN6gO4H6QBSWLRrh7fvH2ddC4QuxQ_Fw87-M7v7r-e4yFuPHXFTYoMxiNIYSbV43SxC_EMRdyEeV8mQFIlTMnQJOl9ogW5dIGGvc2RuPcdf52hBkJD-M-PNGLSvvzQdvs3AcfW9RDQdbdJdsg2MheubTAWEeBZXHLHXXiBEs6iByiIveOdjKvcR8YIWZChLhHZ2au87M-EzdUbIQTjSih6XahhT0c_zgR0Lq7ITslyyTPPMYKbC1FGfqkuZaZiUrhLId-gLgEMBZfCYbuI8QVFYjZPy9pmTVkC_dCvULKiyqL2VgbiIcrja03KI5h3PGfr3aj8nd5KS)\n",
    "\n",
    "or [here](https://proquest-safaribooksonline-com.ezproxy.lib.ucalgary.ca/9780470183113?uicode=ucalgary).\n",
    "Thanks to Phil for pointing this out. \n",
    "\n",
    "\n",
    "One of the links should take any student to the ucalgary login page and then to the web version of the book after they successfully login."
   ]
  },
  {
   "cell_type": "code",
   "execution_count": 1,
   "metadata": {
    "collapsed": true
   },
   "outputs": [],
   "source": [
    "## Some startup commands\n",
    "\n",
    "%matplotlib inline\n",
    "from numpy import * \n",
    "from scipy import *\n",
    "from matplotlib.pyplot import *\n",
    "from IPython.display import IFrame\n",
    "from IPython.display import Audio, display"
   ]
  },
  {
   "cell_type": "markdown",
   "metadata": {},
   "source": [
    "## Summary\n",
    "\n",
    "- Convolution\n",
    "- Haar transform\n",
    "- Filter response for Haar transform\n",
    "\n"
   ]
  },
  {
   "cell_type": "markdown",
   "metadata": {},
   "source": [
    "## Convolution\n",
    "\n",
    "Convolution looks weird the first few times you see it. The point is, though, that it is useful for so many thing -- including filtering signals. In particular, we will use it for designing wavelet filters. So we have to learn about it.\n",
    "\n",
    "Recall that when you take the product of two functions, $h = f\\cdot g$, you just take the product at every point. $$ h(t) = f(t)g(t).$$\n",
    "\n",
    "When you take the convolution, you introduce a dummy variable $s$ and integrate the product over that. So with $h = f*g$ a convolution, then we write $h(t)$ as a sum or integral over the variable $s$, so\n",
    "$$ h(t) = \\sum_s f(t-s) g(s) \\quad \\mbox{ or }\\quad h(t) = \\int f(t-s) g(s)\\, ds, $$\n",
    "depending on whether $s,t$ are discrete variables (like integers) or continuous variables (like real numbers). \n",
    "\n",
    "So that's the general form. For particular examples, we look at where the variables $s,t$ are in the integers $\\mathbf{Z}$, on the real line $\\mathbf{R}$, on an interval $\\mathbf{[0,1]}$, or on a  set of $N$ integers $\\{ 0,1,2,\\ldots, N-1\\}$.\n",
    "\n",
    "On the integers $\\mathbf{Z}$, the functions $f,g$ can be thought of as doubly infinite sequences, so we can write the convolution using integer indices $m,n$ as\n",
    "$$h(n) = \\sum_{m=-\\infty}^\\infty f(n-m) g(m) $$\n",
    "or perhaps as\n",
    "$$h_n = \\sum_{m=-\\infty}^\\infty f_{n-m} g_m. $$\n",
    "\n",
    "On the real line $\\mathbf{R}$, the form is the same but now we write down an integral:\n",
    "$$h(t) = \\int_{-\\infty}^\\infty f(t-s) g(s) \\, ds.$$\n",
    "\n",
    "On the interval $\\mathbf{[0,1]}$, we again use an integral, but only integrate on the interval:\n",
    "$$h(t) = \\int_0^1 f(t-s) g(s) \\, ds.$$\n",
    "Notice that the argument $t-s$ might be negative, even though $f()$ is only defined for positive numbers in the interval $[0,1]$. To fix this, we assume that f is extended periodically, with period 1, so we let $f(t-s) = f(1+t-s)$ to move it into the positive numbers. \n",
    "\n",
    "On a  set of $N$ integers $\\{ 0,1,2,\\ldots, N-1\\}$, we go back to sums and write \n",
    "$$h(n) = \\sum_{m=0}^{N-1} f(n-m) g(m) $$ or\n",
    "$$h_n = \\sum_{m=0}^{N-1} f_{n-m} g_m. $$ \n",
    "Now again we have the problem that the index $n-m$ could be negative, so we extend $f$ periodically, but now with period $N$. So we can shift to get $f(n-m) = f(N+n-m)$ to turn a negative index into something positive. \n",
    "\n",
    "(If you think about it, you realize we are treating the set $\\{ 0,1,2,\\ldots, N-1\\}$ as a group with addition modulo $N$. \n",
    "\n",
    "You might like to check that the order of $f$ and $g$ in the convolution does not matter. (Try a change of variables / change of summation.) For all cases of integers, real line, interval, finite set of integers. \n"
   ]
  },
  {
   "cell_type": "markdown",
   "metadata": {},
   "source": [
    "## More on convolution on the integers.\n",
    "\n",
    "In numerical work we will do lots of convolution on the integers, as this corresponds to working with digitally sampled signals. So let's look at some other way to think about the convolution. \n"
   ]
  },
  {
   "cell_type": "markdown",
   "metadata": {},
   "source": [
    "## Convolution via $Z$ transform \n",
    "\n",
    "Any two sampled signals $f,g$ can be thought of as functions on $\\mathbf{Z}$ or as doubly infinite sequence, so they can be combined by {\\em convolution}. An easy way to see the convolution is using the Z transform, which changes the signals into polynomials (in $Z$), which we just multiply like ordinary polynomials. So, for example, if \n",
    "\\begin{eqnarray*}\n",
    "f &=& (\\ldots, 0, 0, 1, 2, 3, 0, 0, \\ldots) \\\\\n",
    "g &=& (\\ldots, 0, 0, 4, 5, 6, 0, 0, \\ldots) ,\n",
    "\\end{eqnarray*}\n",
    "we have Z transforms $F(Z) = 1 + 2Z + 3Z^2, G(Z) = 4 + 5Z + 6Z^2$. Take the product of the two polynomials,\n",
    "$$ (1 + 2Z + 3Z^2)(4 + 5Z + 6Z^2) = 4 + 13Z + 28Z^2 + 27Z^3 + 18Z^4$$\n",
    "which we can recognize as the Z transform of the vector\n",
    "$$ (\\ldots, 0, 0, 4, 13, 28, 27, 18, 0, 0, \\ldots )$$\n",
    "which we can also see is the convolution of $f$ with $g$. That is,\n",
    "$$ f * g =  (\\ldots, 0, 0, 4, 13, 28, 27, 18, 0, 0, \\ldots ).$$\n",
    "\n",
    "That is, the convolution formula just adds the appropriate coefficients of powers of $Z$, if you think about how polynomial multiplication works. The n-th entry in the sequence $f * g$ will be a sum of terms like $f_j g_m$, where $j+m = n$. In other words, we can write\n",
    "$$ (f *g)_n = \\sum_m f_{n-m}g_m. $$\n",
    "\n",
    "Because we know how polynomial multiplication works, we can observe that convolution works in either order and gives the same answer: $f*g = g *f$. Also, the convolution operation distributes over addition: $f* (g + h) = (f *g) + (f * h)$: because multiplication of polynomials distributes over addition.  You can also move in scalar constants quite freely, so for instance, $3(f*g) = (3f)*g = f*(3g)$, which is clear from the summation formula defining convolution. \n"
   ]
  },
  {
   "cell_type": "markdown",
   "metadata": {},
   "source": [
    "## Convolution as matrix-vector multiplication\n",
    "\n",
    "Notice we can organize a matrix and a vector to get the same result as the convolution in the last section. We just do the simple $f, g$ example:\n",
    "$$ \n",
    "\\left[\\begin{array}{ccccc}1 & 0 & 0 & 0 & 0 \\\\2 & 1 & 0 & 0 & 0 \\\\3 & 2 & 1 & 0 & 0 \\\\0 & 3 & 2 & 1 & 0 \\\\0 & 0 & 3 & 2 & 1\\end{array}\\right]\n",
    "\\left[\\begin{array}{c}4 \\\\5 \\\\6 \\\\0 \\\\0\\end{array}\\right] =\n",
    "\\left[\\begin{array}{c}4 \\\\13 \\\\28 \\\\27 \\\\18\\end{array}\\right].\n",
    "$$\n",
    "The matrix representing $f$ is constant along diagonals. That is called a Toeplitz matrix. The other guy, $g$, is organized as a column vector. The usual matrix-vector product that we learned in linear algebra gives the resulting column vector representing $f * g$. \n",
    "\n",
    "Notice that although $f, g$ had only 3 non-zero entries, the matrix had to be 5 by 5, and the vector 5 by 1, in order for there to be enough room to get the full answer to fit in. Similarly, for vectors with N non-zero entries (all in a row), we need matrices of size 2N - 1. \n",
    "\n",
    "## Convolution as matrix-matrix multiplication\n",
    "We observe that we can also represent convolution as the product to two Toeplitz matrices:\n",
    "$$ \n",
    "\\left[\\begin{array}{ccccc}1 & 0 & 0 & 0 & 0 \\\\2 & 1 & 0 & 0 & 0 \\\\3 & 2 & 1 & 0 & 0 \\\\0 & 3 & 2 & 1 & 0 \\\\0 & 0 & 3 & 2 & 1\\end{array}\\right]\n",
    "\\left[\\begin{array}{ccccc}4 & 0 & 0 & 0 & 0 \\\\5 & 4 & 0 & 0 & 0 \\\\6 & 5 & 4 & 0 & 0 \\\\0 & 6 & 5 & 4 & 0 \\\\0 & 0 & 6 & 5 & 4\\end{array}\\right]\n",
    "=\n",
    "\\left[\\begin{array}{ccccc}4 & 0 & 0 & 0 & 0 \\\\13 & 4 & 0 & 0 & 0 \\\\28 & 13 & 4 & 0 & 0 \\\\27 & 28 & 13 & 4 & 0 \\\\18 & 27 & 28 & 13 & 4\\end{array}\\right].\n",
    "$$\n",
    "Check the matrix multiplication; you will see this is correct. Again, the matrices have to be large enough to give room for the whole convolution to appear. \n",
    "\n",
    "You could write out infinite matrices for this, if you are feeling energetic."
   ]
  },
  {
   "cell_type": "markdown",
   "metadata": {},
   "source": [
    "## Convolution by flipping and shifting\n",
    "You can also obtain a convolution by flipping the order of one of the sequences (or signals), taking point-wise products, and sum. So, for instance, with the same $f, g$ as in the previous section, we flip around the $g$ and write it underneath the $f$ sequence:\n",
    "$$ \n",
    "\\begin{array}{cccccc} \n",
    "\\dots 0& 0 & 1 & 2 & 3 & 0 \\ldots \\\\\n",
    "\\ldots 6 & 5 & 4 & 0 & 0 & 0 \\ldots \\\\\n",
    "\\end{array}.\n",
    "$$\n",
    "The pointwise product is\n",
    "$$\n",
    "\\begin{array}{cccccc} \n",
    "\\ldots 0 & 0 & 4 & 0 & 0 & 0 \\ldots \\\\\n",
    "\\end{array}\n",
    "$$\n",
    "which sums up to 4, the first component of the convolution.\n",
    "To get the second component, we shift $g$ once, and line up the vectors as\n",
    "$$ \n",
    "\\begin{array}{cccccc} \n",
    "\\dots 0& 0 & 1 & 2 & 3 & 0 \\ldots \\\\\n",
    "\\ldots 0 & 6 & 5 & 4 & 0 & 0  \\ldots \\\\\n",
    "\\end{array}.\n",
    "$$\n",
    "The pointwise product is\n",
    "$$\n",
    "\\begin{array}{cccccc} \n",
    "\\ldots 0 & 0 & 5 & 8 & 0 & 0 \\ldots \\\\\n",
    "\\end{array}\n",
    "$$\n",
    "which sums up to 13, the second component of the convolution.\n",
    "\n",
    "To get the third component, we shift $g$ again, and line up the vectors as\n",
    "$$ \n",
    "\\begin{array}{cccccc} \n",
    "\\dots 0& 0 & 1 & 2 & 3 & 0 \\ldots \\\\\n",
    "\\ldots 0& 0 & 6 & 5 & 4 & 0   \\ldots \\\\\n",
    "\\end{array}.\n",
    "$$\n",
    "The pointwise product is\n",
    "$$\n",
    "\\begin{array}{cccccc} \n",
    "\\ldots 0 & 0 & 6 & 10 & 12 & 0 \\ldots \\\\\n",
    "\\end{array}\n",
    "$$\n",
    "which sums up to 28, the third component of the convolution. And so on. This works in general."
   ]
  },
  {
   "cell_type": "markdown",
   "metadata": {},
   "source": [
    "## Convolution as a system\n",
    "Fixing a sequence $g$, we define a system that acts on signals $f$ as\n",
    "$$ f \\to  A(f) = g*f = h. $$\n",
    "That is, for input signal $f$, our system outputs a signal $h$ that is computed as $h = f*g$. \n",
    "\n",
    "From our description of convolution as matrices, just like in linear algebra, we certainly expect that this system is linear. That is,\n",
    "\\begin{eqnarray*}\n",
    "A(f_1 + f_2) & = & A(f_1) + A(f_2), \\\\\n",
    "A(\\alpha f) & = & \\alpha A(f).\n",
    "\\end{eqnarray*}\n",
    "This is easy to verify from the formulas for convolution. Equivalently, the first equation follows since convolution distributes over addition, $g*(f_1 + f_2) = g*f_1 + g*f_2$, and the second equation follows since multiplication by a scalar commutes with polynomial multiplication.\n"
   ]
  },
  {
   "cell_type": "markdown",
   "metadata": {},
   "source": [
    "## The convolution theorem - on the integers\n",
    "Remarkably, the Fourier transform changes a convolution into a product. \n",
    "\n",
    "For instance, on the integers $\\mathbf{Z}$, if $f,g$ are sequences, with $h = f*g$ their convolution, then by taking Fourier transforms, we get functions $\\hat{h}, \\hat{f}, \\hat{g}$ that line up as a product of functions\n",
    "$$\\hat{h} (t) = \\hat{f}(t)\\hat{g}(t)\\mbox { for all $t$ in $[0,1]$.} $$\n",
    "\n",
    "This is crazy easy to prove, at least for sequences $f,g$ that only have a finite number of non-zero entries. We know the $Z$ transforms $F(Z) = \\sum_n f_n Z^n$ multiply like polynomials, and we get\n",
    "$$ H(Z) = F(Z)\\cdot G(Z) \\mbox{ or } \\sum_n h_nZ^n = (\\sum_n f_n Z^n)(\\sum_n g_n Z^n).$$\n",
    "Now let $Z = e^{2\\pi i t}$ and so the powers are then $Z^n = e^{2\\pi i nt}.$ Plug that into the formula above, and we get\n",
    "$$\\sum_n h_ne^{2\\pi i nt} = (\\sum_n f_n e^{2\\pi i nt})(\\sum_n g_n e^{2\\pi i nt}).$$\n",
    "But that is just the definition of Fourier transforms, as functions of the variable $t$, so we have \n",
    "$$\\hat{h}(t) = \\hat{f}(t)\\hat{g}(t),$$\n",
    "as desired. \n",
    "\n",
    "Taking limits gives the results for all square-summable sequences.\n"
   ]
  },
  {
   "cell_type": "markdown",
   "metadata": {},
   "source": [
    "## The convolution theorem - on the real line $\\mathbf{R}$.\n",
    "\n",
    "For functions on the real line, it is also true that the Fourier transform changes a convolution into a product. \n",
    "\n",
    "Thus, if if $f,g$ are functions on $\\mathbf{R}$, with $h = f*g$ their convolution, then by taking Fourier transforms, we get functions $\\hat{h}, \\hat{f}, \\hat{g}$ that line up as a product of functions\n",
    "$$\\hat{h} (t) = \\hat{f}(t)\\hat{g}(t)\\mbox { for all $t$ in $\\mathbf{R}$.} $$\n",
    "\n",
    "The demonstration of this fact is simply a double integral and a change of variables.\n",
    "\n",
    "We note the definition of convolution of $f$ with $g$ gives\n",
    "$$h(t) = \\int_{-\\infty}^\\infty f(t-s)g(s) ds.$$\n",
    "The Fourier transform of $h$ is then\n",
    "$$\\hat{h}(\\omega) = \\int_\\mathbf{R} h(t) e^{-2\\pi i \\omega t} \\, dt\n",
    "= \\int_\\mathbf{R} \\int_\\mathbf{R} f(t-s)g(s) e^{-2\\pi i \\omega t} \\, ds \\, dt.$$ \n",
    "\n",
    "Now write $e^{-2\\pi i \\omega t} = e^{-2\\pi i \\omega (t-s)}e^{-2\\pi i \\omega s}$ and the double inegral splits up as \n",
    "$$\\hat{h}(\\omega) = \\int_\\mathbf{R}   \\int_\\mathbf{R} f(t-s)e^{-2\\pi i \\omega (t-s)} g(s) e^{-2\\pi i \\omega s} \\, ds \\, dt.$$ \n",
    "With $r = t-s$ as a change of variables, we get two separate integrals\n",
    "$$\\hat{h}(\\omega) = \\int_\\mathbf{R}    f(r)e^{-2\\pi i \\omega r}\\, dr \\int_\\mathbf{R} g(s) e^{-2\\pi i \\omega s} \\, ds,$$ \n",
    "which we recognize as a product of two Fourier transforms, so \n",
    "$$\\hat{h}(\\omega)= \\hat{f}(\\omega)\\hat{g}(\\omega),$$\n",
    "proving the results."
   ]
  },
  {
   "cell_type": "markdown",
   "metadata": {},
   "source": [
    "## The convolution theorem - on the interval $\\mathbf{[0,1]}$  and finite set $\\{ 0,1,2,\\ldots, N-1\\}$.\n",
    "\n",
    "Let's just point out the result is the same. A convolution changes to a product under the Fourier transform. Just keep in mind, though, that we are using a circular convolution here on this sets. So be careful!! (See class discussion, examples.)"
   ]
  },
  {
   "cell_type": "markdown",
   "metadata": {},
   "source": [
    "## Filtering as multiplication in frequency domain"
   ]
  },
  {
   "cell_type": "markdown",
   "metadata": {},
   "source": [
    "The point of the convolution is that we can understand convolution as a filtering operation, where in the frequency domain (Fourier domain), the action of the filter is to boost or reduce parts of the signal based on its frequency. That is, multiply by a big number, or by a small number.\n",
    "\n"
   ]
  },
  {
   "cell_type": "code",
   "execution_count": 3,
   "metadata": {
    "collapsed": true
   },
   "outputs": [],
   "source": [
    "from numpy.fft import fftfreq \n"
   ]
  },
  {
   "cell_type": "code",
   "execution_count": 11,
   "metadata": {},
   "outputs": [
    {
     "data": {
      "text/plain": [
       "[<matplotlib.lines.Line2D at 0x113837c50>]"
      ]
     },
     "execution_count": 11,
     "metadata": {},
     "output_type": "execute_result"
    },
    {
     "data": {
      "image/png": "[encoded data removed]",
      "text/plain": [
       "<matplotlib.figure.Figure at 0x1138019e8>"
      ]
     },
     "metadata": {},
     "output_type": "display_data"
    }
   ],
   "source": [
    "## Here is a real signal\n",
    "Fs = 1024 # the sampling rate\n",
    "t = linspace(0,1,Fs)  # time samples\n",
    "freq = fftfreq(t.shape[-1])\n",
    "f = sin(2*pi*100*t) + 1.3*sin(2*pi*400*t)# a 100 Hz sand 250 Hz signal\n",
    "plot(Fs*freq,abs(fft(f)))\n"
   ]
  },
  {
   "cell_type": "code",
   "execution_count": 12,
   "metadata": {},
   "outputs": [
    {
     "data": {
      "text/plain": [
       "[<matplotlib.lines.Line2D at 0x113955c88>]"
      ]
     },
     "execution_count": 12,
     "metadata": {},
     "output_type": "execute_result"
    },
    {
     "data": {
      "image/png": "[encoded data removed]",
      "text/plain": [
       "<matplotlib.figure.Figure at 0x1136f80b8>"
      ]
     },
     "metadata": {},
     "output_type": "display_data"
    }
   ],
   "source": [
    "## Here is a very simple smoothing filter\n",
    "## Notice we pad it out with zeros to match the signal\n",
    "g = zeros(x.shape[-1])\n",
    "g[range(2)] = [.5, .5]  # try 1.6 in the middle term. Try 2.\n",
    "plot(freq,abs(fft(g)))"
   ]
  },
  {
   "cell_type": "code",
   "execution_count": 13,
   "metadata": {},
   "outputs": [
    {
     "data": {
      "text/plain": [
       "[<matplotlib.lines.Line2D at 0x113b5a240>]"
      ]
     },
     "execution_count": 13,
     "metadata": {},
     "output_type": "execute_result"
    },
    {
     "data": {
      "image/png": "[encoded data removed]",
      "text/plain": [
       "<matplotlib.figure.Figure at 0x1138011d0>"
      ]
     },
     "metadata": {},
     "output_type": "display_data"
    }
   ],
   "source": [
    "h = convolve(f,g)\n",
    "h = h[0:1024]  \n",
    "plot(Fs*freq,abs(fft(h)))"
   ]
  },
  {
   "cell_type": "code",
   "execution_count": 16,
   "metadata": {},
   "outputs": [
    {
     "data": {
      "text/plain": [
       "[<matplotlib.lines.Line2D at 0x113ee5860>,\n",
       " <matplotlib.lines.Line2D at 0x113ee5a20>]"
      ]
     },
     "execution_count": 16,
     "metadata": {},
     "output_type": "execute_result"
    },
    {
     "data": {
      "image/png": "[encoded data removed]",
      "text/plain": [
       "<matplotlib.figure.Figure at 0x113801be0>"
      ]
     },
     "metadata": {},
     "output_type": "display_data"
    }
   ],
   "source": [
    "## Look how the plot(Fs*freq,500*abs(fft(g)),Fs*freq,abs(fft(h)))"
   ]
  },
  {
   "cell_type": "code",
   "execution_count": 20,
   "metadata": {},
   "outputs": [
    {
     "data": {
      "text/plain": [
       "[<matplotlib.lines.Line2D at 0x11465ceb8>]"
      ]
     },
     "execution_count": 20,
     "metadata": {},
     "output_type": "execute_result"
    },
    {
     "data": {
      "image/png": "[encoded data removed]",
      "text/plain": [
       "<matplotlib.figure.Figure at 0x114083ef0>"
      ]
     },
     "metadata": {},
     "output_type": "display_data"
    }
   ],
   "source": [
    "subplot(3,1,1)\n",
    "plot(Fs*freq,abs(fft(f)))\n",
    "subplot(3,1,2)\n",
    "plot(Fs*freq,abs(fft(g)))\n",
    "subplot(3,1,3)\n",
    "plot(Fs*freq,abs(fft(h)))\n"
   ]
  },
  {
   "cell_type": "markdown",
   "metadata": {
    "collapsed": true
   },
   "source": [
    "## Haar filter\n",
    "\n",
    "There are two filters for Harr, with coefficients $[1,1]$ and $[1,-1]$. Or normalized as $[1,1]/\\sqrt{2}$, $[1,-1]/\\sqrt{2}$.\n",
    "\n",
    "Let's look at their filter response:"
   ]
  },
  {
   "cell_type": "code",
   "execution_count": 23,
   "metadata": {},
   "outputs": [
    {
     "data": {
      "text/plain": [
       "[<matplotlib.lines.Line2D at 0x114a6df60>]"
      ]
     },
     "execution_count": 23,
     "metadata": {},
     "output_type": "execute_result"
    },
    {
     "data": {
      "image/png": "[encoded data removed]",
      "text/plain": [
       "<matplotlib.figure.Figure at 0x1141359b0>"
      ]
     },
     "metadata": {},
     "output_type": "display_data"
    }
   ],
   "source": [
    "g1 = zeros(x.shape[-1])\n",
    "g1[range(2)] = [1/sqrt(2),1/sqrt(2)]  \n",
    "g2 = zeros(x.shape[-1])\n",
    "g2[range(2)] = [1/sqrt(2),-1/sqrt(2)]  \n",
    "subplot(2,1,1)\n",
    "plot(freq,abs(fft(g1)))\n",
    "subplot(2,1,2)\n",
    "plot(freq,abs(fft(g2)))"
   ]
  },
  {
   "cell_type": "code",
   "execution_count": 24,
   "metadata": {},
   "outputs": [
    {
     "data": {
      "text/plain": [
       "[<matplotlib.lines.Line2D at 0x114af0400>]"
      ]
     },
     "execution_count": 24,
     "metadata": {},
     "output_type": "execute_result"
    },
    {
     "data": {
      "image/png": "[encoded data removed]",
      "text/plain": [
       "<matplotlib.figure.Figure at 0x114064358>"
      ]
     },
     "metadata": {},
     "output_type": "display_data"
    }
   ],
   "source": [
    "plot(freq,abs(fft(g1))**2 + abs(fft(g2))**2 )"
   ]
  },
  {
   "cell_type": "markdown",
   "metadata": {},
   "source": [
    "So, their squares sum up to 2. We will use this in contructing many of our wavelets.\n",
    "\n"
   ]
  },
  {
   "cell_type": "markdown",
   "metadata": {},
   "source": [
    "## Filters, decimation, Haar wavelet.\n",
    "\n",
    "Refer to the PDF lecture notes called Wavelets_v4.pdf"
   ]
  },
  {
   "cell_type": "markdown",
   "metadata": {},
   "source": [
    "[Wavelet lecture notes](Wavelets_v4.pdf)"
   ]
  },
  {
   "cell_type": "code",
   "execution_count": null,
   "metadata": {
    "collapsed": true
   },
   "outputs": [],
   "source": []
  }
 ],
 "metadata": {
  "kernelspec": {
   "display_name": "Python 3",
   "language": "python",
   "name": "python3"
  },
  "language_info": {
   "codemirror_mode": {
    "name": "ipython",
    "version": 3
   },
   "file_extension": ".py",
   "mimetype": "text/x-python",
   "name": "python",
   "nbconvert_exporter": "python",
   "pygments_lexer": "ipython3",
   "version": "3.6.1"
  }
 },
 "nbformat": 4,
 "nbformat_minor": 2
}
