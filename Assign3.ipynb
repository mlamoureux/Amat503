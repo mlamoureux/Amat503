{
 "cells": [
  {
   "cell_type": "raw",
   "metadata": {},
   "source": []
  },
  {
   "cell_type": "markdown",
   "metadata": {},
   "source": [
    "# Assignment 3.\n",
    "\n",
    "AMAT 503 -- M. Lamoureux\n",
    "\n",
    "Posted March 15. Due Thursday, March 22.\n",
    "\n",
    "This is a numerical assignment, you can complete it on Python [ucalgary.syzygy.ca](https://ucalgary.syzygy.ca) or Matlab, or whatever.\n",
    "\n"
   ]
  },
  {
   "cell_type": "code",
   "execution_count": 1,
   "metadata": {
    "collapsed": true
   },
   "outputs": [],
   "source": [
    "%matplotlib inline\n",
    "from numpy import *\n",
    "from matplotlib.pyplot import *\n",
    "from scipy.signal import convolve2d"
   ]
  },
  {
   "cell_type": "markdown",
   "metadata": {},
   "source": [
    "## Discrete convolution.\n",
    "\n",
    "You should get used to the idea that we can do convolution by formula, by code, or have an intuitive understanding of how it works.\n",
    "\n",
    "Symmetric functions are a good place to start, as the results are also symmetric so there is less confusion as to what the result should be. \n",
    "\n",
    "In the midterm, you were asked to convolve $(1,1,1,1,0,0,\\ldots)$ with $(1,1,1,1,0,0,\\ldots)$. You can do this by hand, with the formula\n",
    "$$z_k = \\sum _j x_{k-j}y_j. $$\n",
    "\n",
    "You can also do it numerically, using the \"convolve\" function from Numpy:"
   ]
  },
  {
   "cell_type": "code",
   "execution_count": 2,
   "metadata": {},
   "outputs": [
    {
     "data": {
      "text/plain": [
       "array([1, 2, 3, 4, 4, 3, 2, 1])"
      ]
     },
     "execution_count": 2,
     "metadata": {},
     "output_type": "execute_result"
    }
   ],
   "source": [
    "convolve([1,1,1,1],[1,1,1,1,1])"
   ]
  },
  {
   "cell_type": "code",
   "execution_count": 3,
   "metadata": {},
   "outputs": [
    {
     "data": {
      "text/plain": [
       "[<matplotlib.lines.Line2D at 0x11cd27be0>]"
      ]
     },
     "execution_count": 3,
     "metadata": {},
     "output_type": "execute_result"
    },
    {
     "data": {
      "image/png": "[encoded data removed]",
      "text/plain": [
       "<matplotlib.figure.Figure at 0x119771c50>"
      ]
     },
     "metadata": {},
     "output_type": "display_data"
    }
   ],
   "source": [
    "subplot(1,3,1)\n",
    "plot([1,1,1,1])\n",
    "subplot(1,3,2)\n",
    "plot([1,1,1,1,1])\n",
    "subplot(1,3,3)\n",
    "plot(convolve([1,1,1,1],[1,1,1,1,1]))"
   ]
  },
  {
   "cell_type": "markdown",
   "metadata": {},
   "source": [
    "You should notice the \"support\" ot the function expands as you convolve. First funciton supported on interval $[0,3]$, second on $[0,4]$, results has support $[0,7]$.\n",
    "\n",
    "You get slightly better pictures by inserting some zeros on either size."
   ]
  },
  {
   "cell_type": "code",
   "execution_count": 4,
   "metadata": {},
   "outputs": [
    {
     "data": {
      "text/plain": [
       "[<matplotlib.lines.Line2D at 0x11d384eb8>]"
      ]
     },
     "execution_count": 4,
     "metadata": {},
     "output_type": "execute_result"
    },
    {
     "data": {
      "image/png": "[encoded data removed]",
      "text/plain": [
       "<matplotlib.figure.Figure at 0x11cd4e4a8>"
      ]
     },
     "metadata": {},
     "output_type": "display_data"
    }
   ],
   "source": [
    "subplot(1,3,1)\n",
    "plot([0,0,0,1,1,1,1,0,0,0],)\n",
    "subplot(1,3,2)\n",
    "plot([0,0,0,1,1,1,1,1,0,0,0], )\n",
    "subplot(1,3,3)\n",
    "plot(convolve([0,0,0,1,1,1,1,0,0,0],[0,0,0,1,1,1,1,1,0,0,0]),)"
   ]
  },
  {
   "cell_type": "markdown",
   "metadata": {},
   "source": [
    "## Q1.\n",
    "\n",
    "Let $x = (0,0,1,1,1,1,1,1,\\ldots, 1,1,1,0,0,0)$ be a vector with a long sting of 1's, surrounded by a few zeros. (e.g. twenty 1's, even one hundred ones.)\n",
    "\n",
    "Plot $x$ and its (numerical) convolution with itself once, twice, three times, four times. \n",
    "\n",
    "(i.e. $x, x*x, x*x*x, x*x*x*x, x*x*x*x*x$)\n",
    "\n",
    "Can you describe the curves you get?\n"
   ]
  },
  {
   "cell_type": "code",
   "execution_count": null,
   "metadata": {
    "collapsed": true
   },
   "outputs": [],
   "source": []
  },
  {
   "cell_type": "markdown",
   "metadata": {},
   "source": [
    "## Continuous convolution (convolution on the real line)"
   ]
  },
  {
   "cell_type": "markdown",
   "metadata": {},
   "source": [
    "The convolution of two functions on the real line is given by\n",
    "$$f*g(t) = \\int_{-\\infty}^\\infty f(t-s) g(s) \\,ds.$$\n",
    "\n",
    "Numerically, we can compute the integral by Riemann sums. So we replace the integral with a sum, and the variable $s$ with steps $j \\Delta_s$, where $\\Delta$ is a small number, and $j$ is an integer index. This gives the approximations\n",
    "$$f*g(t) \\approx \\sum_{j=-\\infty}^\\infty f(t-j\\Delta) g(j\\Delta) \\Delta.$$\n",
    "Replacig $t$ with a sample at $k\\Delta$, and moving the constant $\\Delta$ to the front, we get the sampled version\n",
    "$$f*g(k\\Delta) \\approx \\Delta\\sum_{j=-\\infty}^\\infty f((k-j)\\Delta) g(j\\Delta) .$$\n",
    "\n",
    "This is exactly the formula for discrete convolutions, with vectors $x_j = f(j\\Delta), y_j = g(j\\Delta), z_k = (f*g)(k\\Delta).$\n",
    "\n",
    "This tells you how to approximate a continuous convolution using the numerical, discrete convolution.\n",
    "- fix a step size $\\Delta$\n",
    "- sample the functions $f,g$ using this steps size. Sample wide enough to catch non-zero elements\n",
    "- numerically convolve the two vectors of samples, and scale by $\\Delta$\n",
    "- if necessary, repeat with a smaller $\\Delta$ to get a better approximation\n",
    "\n",
    "Note that you should think about the resulting domain of the functions. \n",
    "\n",
    "For example, let's take the function from the assignment, a step function times an inverted parabola.\n",
    "\n"
   ]
  },
  {
   "cell_type": "code",
   "execution_count": 5,
   "metadata": {},
   "outputs": [
    {
     "data": {
      "text/plain": [
       "[<matplotlib.lines.Line2D at 0x11d3ddbe0>]"
      ]
     },
     "execution_count": 5,
     "metadata": {},
     "output_type": "execute_result"
    },
    {
     "data": {
      "image/png": "[encoded data removed]",
      "text/plain": [
       "<matplotlib.figure.Figure at 0x11cccb198>"
      ]
     },
     "metadata": {},
     "output_type": "display_data"
    }
   ],
   "source": [
    "def f(t):\n",
    "    return (t>-1)*(t<1)\n",
    "\n",
    "t = linspace(-2,2,1000)\n",
    "plot(t,f(t))"
   ]
  },
  {
   "cell_type": "code",
   "execution_count": 6,
   "metadata": {},
   "outputs": [
    {
     "data": {
      "text/plain": [
       "[<matplotlib.lines.Line2D at 0x11d54a748>]"
      ]
     },
     "execution_count": 6,
     "metadata": {},
     "output_type": "execute_result"
    },
    {
     "data": {
      "image/png": "[encoded data removed]",
      "text/plain": [
       "<matplotlib.figure.Figure at 0x11d2174a8>"
      ]
     },
     "metadata": {},
     "output_type": "display_data"
    }
   ],
   "source": [
    "def g(t):\n",
    "    return (t>-1)*(t<1)*(1-t*t)\n",
    "\n",
    "t = linspace(-2,2,1000)\n",
    "plot(t,g(t))"
   ]
  },
  {
   "cell_type": "code",
   "execution_count": 7,
   "metadata": {},
   "outputs": [
    {
     "data": {
      "text/plain": [
       "[<matplotlib.lines.Line2D at 0x11d678978>]"
      ]
     },
     "execution_count": 7,
     "metadata": {},
     "output_type": "execute_result"
    },
    {
     "data": {
      "image/png": "[encoded data removed]",
      "text/plain": [
       "<matplotlib.figure.Figure at 0x11008a080>"
      ]
     },
     "metadata": {},
     "output_type": "display_data"
    }
   ],
   "source": [
    "Delta = .1\n",
    "t = linspace(-2,2,round(4/Delta))\n",
    "x = f(t)\n",
    "y = g(t)\n",
    "z = Delta*convolve(x,y)\n",
    "plot(z)"
   ]
  },
  {
   "cell_type": "markdown",
   "metadata": {},
   "source": [
    "What about the horizontal axis?"
   ]
  },
  {
   "cell_type": "code",
   "execution_count": 8,
   "metadata": {},
   "outputs": [
    {
     "data": {
      "text/plain": [
       "[<matplotlib.lines.Line2D at 0x11d76cf60>]"
      ]
     },
     "execution_count": 8,
     "metadata": {},
     "output_type": "execute_result"
    },
    {
     "data": {
      "image/png": "[encoded data removed]",
      "text/plain": [
       "<matplotlib.figure.Figure at 0x11d6c88d0>"
      ]
     },
     "metadata": {},
     "output_type": "display_data"
    }
   ],
   "source": [
    "tt = linspace(-4,4,size(z))\n",
    "plot(tt,z)"
   ]
  },
  {
   "cell_type": "markdown",
   "metadata": {},
   "source": [
    "## Q2.\n",
    "\n",
    "Repeat the above calculation using a Gaussian $e^{-t^2}$ for both $f(t)$ and $g(t)$. Choose an appropriate range for the horizontal axis (like the $[-2,2]$ in the above example, and plot the result, using appropriate range for the resulting horizontal axis. \n",
    "\n",
    "Do this for 2 or 3 different values of $\\Delta$ to see if the approximation is getting better.\n",
    "\n",
    "What curve does the result look like? What is its width, and how does that compare with the widths of the originial two Gaussians?"
   ]
  },
  {
   "cell_type": "markdown",
   "metadata": {},
   "source": [
    "## Q3.\n",
    "As in question 2, let $f(t) = e^{-t^2}$, sample it for a small value of $\\Delta$, and convolve with the short filter $h=(1,-1)$. Plot the result, and identify what this function looks like? Can you normalize (multiply or divide by something involving $\\Delta$ so the amplitude of the resulting curve is roughly independent of the choice of $\\Delta$?"
   ]
  },
  {
   "cell_type": "markdown",
   "metadata": {},
   "source": [
    "## Q4.\n",
    "Repeat question 3, with $f(t) = e^{-t^2}$ but the filter is now $h = (1,-2,1)$. Plot, and identify what the resulting function is. Again find the normalization factor for the filter so the result is more or less independent of the choice of $\\Delta$."
   ]
  },
  {
   "cell_type": "code",
   "execution_count": null,
   "metadata": {
    "collapsed": true
   },
   "outputs": [],
   "source": []
  },
  {
   "cell_type": "markdown",
   "metadata": {},
   "source": [
    "## Two dimensional convolution"
   ]
  },
  {
   "cell_type": "markdown",
   "metadata": {},
   "source": [
    "2D convolution can also be done via sampling. We still get a smoothing, and an expansion of domains."
   ]
  },
  {
   "cell_type": "code",
   "execution_count": 9,
   "metadata": {},
   "outputs": [
    {
     "data": {
      "text/plain": [
       "<matplotlib.image.AxesImage at 0x11daa96d8>"
      ]
     },
     "execution_count": 9,
     "metadata": {},
     "output_type": "execute_result"
    },
    {
     "data": {
      "image/png": "[encoded data removed]",
      "text/plain": [
       "<matplotlib.figure.Figure at 0x11d7768d0>"
      ]
     },
     "metadata": {},
     "output_type": "display_data"
    }
   ],
   "source": [
    "def ff(x,y):\n",
    "    return (x**2 + y**2 <1)\n",
    "\n",
    "def gg(x,y):\n",
    "    return (abs(x)<.5)*(abs(y)<.3)\n",
    "\n",
    "Delta = .1\n",
    "x = linspace(-2,2,round(4/Delta))\n",
    "y = linspace(-2,2,round(4/Delta))\n",
    "\n",
    "ffimg = zeros((size(x),size(y)))\n",
    "ggimg = zeros((size(x),size(y)))\n",
    "for j in range(size(x)):\n",
    "    for k in range(size(y)):\n",
    "        ffimg[j,k]=ff(x[j],y[k])\n",
    "        ggimg[j,k]=gg(x[j],y[k])\n",
    "        \n",
    "result = convolve2d(ffimg,ggimg)\n",
    "\n",
    "subplot(1,3,1)\n",
    "extent = min(x), max(x), min(y), max(y)\n",
    "imshow(ffimg, extent=extent)\n",
    "subplot(1,3,2)\n",
    "imshow(ggimg, extent=extent)\n",
    "subplot(1,3,3)\n",
    "imshow(result, extent=(-4,4,-4,4))\n",
    "        "
   ]
  },
  {
   "cell_type": "markdown",
   "metadata": {},
   "source": [
    "## Q5.\n",
    "\n",
    "The above example is not normalized. (The image plotting does some normalization itself, so we don't see the effects.)\n",
    "\n",
    "Investigate by playing around with different values of $\\Delta$, to see how the values of the result change. Correct the equation\n",
    "$$\\mbox{result = convolve2d(ffimg,ggimg)}$$\n",
    "to insert a factor that normalizes the result.\n",
    "\n",
    "(This is related to the fact we are doing a 2D sampling in the convolution integral.)"
   ]
  },
  {
   "cell_type": "markdown",
   "metadata": {},
   "source": [
    "## Q6.\n",
    "\n",
    "Four things go compute, and plot.\n",
    "\n",
    "Take the circle image above and convolve with the small 2D filter\n",
    "$$ g = \\left[ \\begin{array}{ccc} 1 & 1 & 1 \\\\ 1 & 1 & 1 \\\\ 1 & 1 & 1 \\end{array} \\right].$$ Plot it. \n",
    "\n",
    "Take the circle image above and convolve with the small 2D filter\n",
    "$$ h = \\left[ \\begin{array}{rrr}  0 & 1 & 0 \\\\ 1 & -4 & 1 \\\\ 0 & 1 & 0 \\end{array} \\right].$$ Plot it. \n",
    "\n",
    "Take the rectangle image above and convolve with the small 2D filter $g$. Plot it. \n",
    "\n",
    "Take the rectangle image above and convolve with the small 2D filter $h$. Plot it.\n",
    "\n",
    "Try it for various values of $\\Delta$ and make comment about what features these filters are highlighting. \n",
    "\n"
   ]
  },
  {
   "cell_type": "markdown",
   "metadata": {},
   "source": [
    "## Q7.\n",
    "\n",
    "Figure out how to input a black-and-white photo into your computer, and apply the filters $g$ and $h$ from Q6. Plot the result, and describe what the filters did the photo. "
   ]
  },
  {
   "cell_type": "markdown",
   "metadata": {},
   "source": [
    "## Fourier transforms.\n",
    "\n",
    "We have seen a lot of Fourier transforms in this class, on various spaces. Let's look at the Fourier tranform on the real line, and see how it is connected to other Fourier transforms. \n",
    "\n",
    "The FT on the real line can be defined for a function $f(t)$ as\n",
    "$$\\hat{f}(\\omega) = \\int_{-\\infty}^\\infty f(t) e^{-2\\pi i \\omega t} \\, dt.$$\n",
    "\n",
    "NOTE in particular that $\\omega$ can be any real number, and the integral goes from minus infinity to infinity. This is important, and different than our FT on an interval.\n",
    "\n",
    "Don't forget the imaginary $i$ inside the exponential -- this is so we get sinusioidal functions, which is important for harmonica analysis. It is convenient to include the $2\\pi$ in the argument, so that if $t$ is in units of seconds, then $\\omega$ is in units of Hertz, or cycles per second.\n",
    "\n",
    "(Some people prefer to measure in radians per second, which personally I find confusing.)\n",
    "\n",
    "\n",
    "An approximate formula is given by replacing the integral with a sum, and samples of size $\\Delta_t$, as we did with convolution. So we get, with $t = k\\Delta_t$,\n",
    "$$\\hat{f}(\\omega) \\approx \\Delta_t \\sum_{j = -\\infty}^\\infty f(j\\Delta_t) e^{-2\\pi i \\omega j\\Delta_t}. $$\n",
    "\n",
    "You might prefer to see this powers in the exponential.\n",
    "\n",
    "$$\\hat{f}(\\omega) \\approx \\Delta_t \\sum_{j = -\\infty}^\\infty f(j\\Delta_t) (e^{-2\\pi i \\omega \\Delta_t})^j. $$\n",
    "\n",
    "We can go one step furthere and sample in the frequency domain, letting $\\omega = k\\Delta_\\omega$, for integers $k$. Then we have\n",
    "$$\\hat{f}(k\\omega) \\approx \\Delta_t \\sum_{j = -\\infty}^\\infty f(j\\Delta_t) (e^{-2\\pi i \\Delta_\\omega \\Delta_t})^{jk}. $$\n",
    "\n",
    "Hopefully this makes you think of the discrete FFT. In fact, if you choose $N$ big enough to cover all the non-zero samples of $f$ in the sum, and then choose the sampling sizes so that\n",
    "$$\\Delta_\\omega \\Delta_t = \\frac{1}{N},$$\n",
    "then this really is the discrete FFT. SO we can use fast code to compute this.\n",
    "\n",
    "Notice that the aample sizes $\\Delta_t, \\Delta_\\omega$ are usually different.\n"
   ]
  },
  {
   "cell_type": "code",
   "execution_count": 10,
   "metadata": {},
   "outputs": [
    {
     "data": {
      "text/plain": [
       "[<matplotlib.lines.Line2D at 0x11dad8320>]"
      ]
     },
     "execution_count": 10,
     "metadata": {},
     "output_type": "execute_result"
    },
    {
     "data": {
      "image/png": "[encoded data removed]",
      "text/plain": [
       "<matplotlib.figure.Figure at 0x11ccbe780>"
      ]
     },
     "metadata": {},
     "output_type": "display_data"
    }
   ],
   "source": [
    "## Example\n",
    "\n",
    "def f(t):\n",
    "    return (t>-1)*(t<1)\n",
    "\n",
    "Delta_t = .01\n",
    "t = linspace(-2,2,round(4/Delta_t))\n",
    "\n",
    "def fhat(w):\n",
    "    return Delta_t*dot(f(t),exp(-2*pi*1j*w*t))\n",
    "\n",
    "## Prepare the output samples of the Fourier transform\n",
    "Delta_w = .1\n",
    "w = linspace(-10,10,round(20/Delta_w))\n",
    "\n",
    "fhat_out = zeros(size(w),dtype=complex_)\n",
    "for k in range(size(w)):\n",
    "    fhat_out[k] = fhat(w[k])\n",
    "\n",
    "plot(w,real(fhat_out))\n",
    "             \n",
    "\n"
   ]
  },
  {
   "cell_type": "markdown",
   "metadata": {},
   "source": [
    "## Q8.\n",
    "Repeat the above calculation, with a few interesting functions:\n",
    "- the function $f(t) = 1$ for $t \\in [-L,L]$, zero for other values. Try for a  few different values of $L$.\n",
    "- the function $f(t) = t$ for $t \\in [-l,l]$, zero for other values\n",
    "- the function $f(t) = 1 - t^2$ for $t\\in[-1,1]$ and zero otherwise.\n",
    "- the function $f(t) = \\exp(-t^2/\\sigma^2)$ for a few values of $\\sigma$. How is the width of the result related to $\\sigma$?\n",
    "\n",
    "Try it with different values of $\\Delta_t,\\Delta_w$ to convince yourself the answer is correct when these deltas are small enough. "
   ]
  },
  {
   "cell_type": "markdown",
   "metadata": {},
   "source": [
    "## Q9.\n",
    "\n",
    "Improve my code (above) for computng the Fourier transform on the line, by using the discrete Fast Fourier Transform. You should think about where the function is non-zero, and how you might choose values for $\\Delta_t,\\Delta_w$ and $N$, the number of samples.\n",
    "\n",
    "Convince me (and yourself) that your code is actually faster by doing some timing measurements. \n"
   ]
  },
  {
   "cell_type": "code",
   "execution_count": null,
   "metadata": {
    "collapsed": true
   },
   "outputs": [],
   "source": []
  }
 ],
 "metadata": {
  "kernelspec": {
   "display_name": "Python 3",
   "language": "python",
   "name": "python3"
  },
  "language_info": {
   "codemirror_mode": {
    "name": "ipython",
    "version": 3
   },
   "file_extension": ".py",
   "mimetype": "text/x-python",
   "name": "python",
   "nbconvert_exporter": "python",
   "pygments_lexer": "ipython3",
   "version": "3.6.1"
  }
 },
 "nbformat": 4,
 "nbformat_minor": 2
}
